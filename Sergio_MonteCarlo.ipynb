{
  "nbformat": 4,
  "nbformat_minor": 0,
  "metadata": {
    "colab": {
      "provenance": [],
      "authorship_tag": "ABX9TyPtcVUdHrAjJUwdRJQhSrTJ",
      "include_colab_link": true
    },
    "kernelspec": {
      "name": "python3",
      "display_name": "Python 3"
    },
    "language_info": {
      "name": "python"
    }
  },
  "cells": [
    {
      "cell_type": "markdown",
      "metadata": {
        "id": "view-in-github",
        "colab_type": "text"
      },
      "source": [
        "<a href=\"https://colab.research.google.com/github/DCI-alxogm/ml2023-checo0228/blob/main/Sergio_MonteCarlo.ipynb\" target=\"_parent\"><img src=\"https://colab.research.google.com/assets/colab-badge.svg\" alt=\"Open In Colab\"/></a>"
      ]
    },
    {
      "cell_type": "markdown",
      "source": [
        "Sergio Eduardo López Lázaro - Monte Carlo Markov Chain Metropolis algorithm\n",
        "\n"
      ],
      "metadata": {
        "id": "AtoKbrBbO582"
      }
    },
    {
      "cell_type": "code",
      "source": [],
      "metadata": {
        "id": "G4fQQxzoIAbg"
      },
      "execution_count": null,
      "outputs": []
    },
    {
      "cell_type": "code",
      "source": [
        "import numpy as np\n",
        "import matplotlib.pyplot as plt\n",
        "from google.colab import drive\n"
      ],
      "metadata": {
        "id": "2Vq-GAb37BFg"
      },
      "execution_count": null,
      "outputs": []
    },
    {
      "cell_type": "code",
      "source": [
        "# Especifica el archivo de datos y el delimitador (; en este caso)\n",
        "archivo_datos = 'olympic100m_men.txt'\n",
        "delimitador = ','\n",
        "\n",
        "# Carga los datos excluyendo la primera fila\n",
        "data = np.loadtxt(archivo_datos, delimiter=delimitador, skiprows=1)\n",
        "\n",
        "# Ahora puedes acceder a las columnas de datos como desees\n",
        "# Por ejemplo, para cargar la primera y la segunda columna en x e y:\n",
        "x = data[:, 0]  # Cargar la primera columna en x\n",
        "y = data[:, 1]  # Cargar la segunda columna en y\n"
      ],
      "metadata": {
        "id": "_BggPJVb7C4V"
      },
      "execution_count": null,
      "outputs": []
    },
    {
      "cell_type": "code",
      "source": [
        "\n",
        "X = np.vstack((np.ones_like(x),x)).T\n",
        "X.shape\n"
      ],
      "metadata": {
        "colab": {
          "base_uri": "https://localhost:8080/"
        },
        "id": "VgC8NYJE_2LE",
        "outputId": "23137aab-0ba6-4b12-ff97-086909f6c6c9"
      },
      "execution_count": null,
      "outputs": [
        {
          "output_type": "execute_result",
          "data": {
            "text/plain": [
              "(26, 2)"
            ]
          },
          "metadata": {},
          "execution_count": 3
        }
      ]
    },
    {
      "cell_type": "code",
      "source": [
        "\n",
        "def lineal (X, w):\n",
        "  # x,y,w deben ser arreglos de numpy\n",
        "  w = np.array(w)\n",
        "  return X@w"
      ],
      "metadata": {
        "id": "cHEfHr_R_6Dq"
      },
      "execution_count": null,
      "outputs": []
    },
    {
      "cell_type": "code",
      "source": [
        "def logaritmo (y, x, w, model = lineal): #lo definimos de esta manera para no usar ciclos for para la sumatoria\n",
        "  log = (y - model(x,w))**2\n",
        "  log = np.sum(log)\n",
        "  return log\n",
        "\n",
        "def Prior(w, w_max, w_min):\n",
        "    if w_min <= w <= w_max:\n",
        "        return 1.0  # Prior uniforme dentro del rango\n",
        "    else:\n",
        "        return 0.0  # Prior igual a cero fuera del rango\n",
        "\n"
      ],
      "metadata": {
        "id": "tmYDzVsTACq8"
      },
      "execution_count": null,
      "outputs": []
    },
    {
      "cell_type": "code",
      "source": [
        "def MonteCarlo (x, y, w_inter, iter, sigma = 0.1, model = lineal, log = logaritmo):\n",
        "  # Definimos el parámetro inicial\n",
        "  theta_ini = [0,0]\n",
        "  w0 = float(input('Indica el w0:'))\n",
        "  theta_ini[0] = w0\n",
        "  w1 = float(input('Indica el w1:'))\n",
        "  theta_ini[1] = w1\n",
        "\n",
        "\n",
        "  thetas = []\n",
        "\n",
        "  i = 0\n",
        "  while i < iter:\n",
        "    # Generamos la propuesta\n",
        "    theta_prop = [np.random.normal(theta_ini[0], sigma), np.random.normal(theta_ini[1], sigma)]\n",
        "\n",
        "    log_ini = logaritmo(y, x, theta_ini) + np.log(Prior(theta_ini, w_inter[0], w_inter[1]))\n",
        "    log_prop = logaritmo(y, x, theta_prop) + np.log(Prior(theta_prop, w_inter[0], w_inter[1]))\n",
        "\n",
        "    if log_prop > log_ini:\n",
        "      thetas.append(theta_prop)\n",
        "      theta_ini = theta_prop\n",
        "    else:\n",
        "      thetas.append(theta_ini)\n",
        "\n",
        "    if log_prop == log_ini:\n",
        "      thetas.append(theta_prop)\n",
        "      theta_ini = theta_prop\n",
        "    else:\n",
        "      thetas.append(theta_ini)\n",
        "    i +=1\n",
        "\n",
        "  return np.array(thetas)"
      ],
      "metadata": {
        "id": "jLVNWp4HAgYe"
      },
      "execution_count": null,
      "outputs": []
    },
    {
      "cell_type": "code",
      "source": [
        "# Normalización de datos\n",
        "mean_x = np.mean(x)\n",
        "std_x = np.std(x)\n",
        "mean_y = np.mean(y)\n",
        "std_y = np.std(y)\n",
        "\n",
        "x_normalized = (x - mean_x) / std_x\n",
        "y_normalized = (y - mean_y) / std_y\n"
      ],
      "metadata": {
        "id": "5BX-1KzmRX1T"
      },
      "execution_count": null,
      "outputs": []
    },
    {
      "cell_type": "code",
      "source": [
        "w_inter = [[50, 45], [19, -224]]\n",
        "chain = MonteCarlo(X, y, w_inter, iter = 10000, sigma = 0.05)\n",
        "\n",
        "w0s = chain[0].T\n",
        "w1s = chain[1].T\n",
        "\n",
        "plt.scatter(w0s, w1s)"
      ],
      "metadata": {
        "colab": {
          "base_uri": "https://localhost:8080/",
          "height": 482
        },
        "id": "itUneCvRAzk0",
        "outputId": "4aae7807-34b0-4dc3-8853-88892897187b"
      },
      "execution_count": null,
      "outputs": [
        {
          "name": "stdout",
          "output_type": "stream",
          "text": [
            "Indica el w0:47\n",
            "Indica el w1:-3\n"
          ]
        },
        {
          "output_type": "execute_result",
          "data": {
            "text/plain": [
              "<matplotlib.collections.PathCollection at 0x7972607e5c60>"
            ]
          },
          "metadata": {},
          "execution_count": 8
        },
        {
          "output_type": "display_data",
          "data": {
            "text/plain": [
              "<Figure size 640x480 with 1 Axes>"
            ],
            "image/png": "[encoded data removed]"
          },
          "metadata": {}
        }
      ]
    },
    {
      "cell_type": "code",
      "source": [
        "w0s = chain[:, 0]\n",
        "w1s = chain[:, 1]\n",
        "\n",
        "# Crear un gráfico de dispersión\n",
        "plt.scatter(w0s, w1s, alpha=1)  # 'alpha' controla la transparencia de los puntos\n",
        "\n",
        "# Etiquetas de los ejes\n",
        "plt.xlabel('w0')\n",
        "plt.ylabel('w1')\n",
        "\n",
        "# Título del gráfico\n",
        "plt.title('Gráfico de dispersión de w0 vs w1')\n",
        "\n",
        "# Mostrar el gráfico\n",
        "plt.show()\n"
      ],
      "metadata": {
        "id": "wVzInhY9RcJT",
        "outputId": "ca52893e-fe57-4658-fd0c-9d0cb62c4595",
        "colab": {
          "base_uri": "https://localhost:8080/",
          "height": 472
        }
      },
      "execution_count": null,
      "outputs": [
        {
          "output_type": "display_data",
          "data": {
            "text/plain": [
              "<Figure size 640x480 with 1 Axes>"
            ],
            "image/png": "[encoded data removed]"
          },
          "metadata": {}
        }
      ]
    },
    {
      "cell_type": "code",
      "source": [
        "w0_min = np.min(w0s)\n",
        "w0_max = np.max(w0s)\n",
        "w1_min = np.min(w1s)\n",
        "w1_max = np.max(w1s)\n",
        "\n",
        "# Agregar un margen adicional al rango de valores\n",
        "margin = 0.1\n",
        "w0_range = w0_max - w0_min\n",
        "w1_range = w1_max - w1_min\n",
        "\n",
        "w0_min -= margin * w0_range\n",
        "w0_max += margin * w0_range\n",
        "w1_min -= margin * w1_range\n",
        "w1_max += margin * w1_range\n",
        "\n",
        "print('W0 min: ',w0_min)\n",
        "print('W0 max: ',w0_max)\n",
        "print('W1 min: ',w1_min)\n",
        "print('W1 max: ',w1_max)"
      ],
      "metadata": {
        "id": "wqeJcPlSRy0v",
        "outputId": "4691a42e-7bd6-4e6e-cbf0-5811e7cd6e65",
        "colab": {
          "base_uri": "https://localhost:8080/"
        }
      },
      "execution_count": null,
      "outputs": [
        {
          "output_type": "stream",
          "name": "stdout",
          "text": [
            "W0 min:  35.7860545037053\n",
            "W0 max:  48.079524138239236\n",
            "W1 min:  -224.46797826813628\n",
            "W1 max:  17.09068174700789\n"
          ]
        }
      ]
    }
  ]
}