{
  "nbformat": 4,
  "nbformat_minor": 0,
  "metadata": {
    "colab": {
      "provenance": [],
      "authorship_tag": "ABX9TyPnX46O26Ya9GOqBVCx/0VE",
      "include_colab_link": true
    },
    "kernelspec": {
      "name": "python3",
      "display_name": "Python 3"
    },
    "language_info": {
      "name": "python"
    }
  },
  "cells": [
    {
      "cell_type": "markdown",
      "metadata": {
        "id": "view-in-github",
        "colab_type": "text"
      },
      "source": [
        "<a href=\"https://colab.research.google.com/github/DCI-alxogm/ml2023-checo0228/blob/main/Sergio_MonteCarlo2.ipynb\" target=\"_parent\"><img src=\"https://colab.research.google.com/assets/colab-badge.svg\" alt=\"Open In Colab\"/></a>"
      ]
    },
    {
      "cell_type": "markdown",
      "source": [
        "Sergio Eduardo López Lázaro - Monte Carlo Markov Chain Metropolis algorithm\n",
        "\n"
      ],
      "metadata": {
        "id": "AtoKbrBbO582"
      }
    },
    {
      "cell_type": "code",
      "source": [],
      "metadata": {
        "id": "G4fQQxzoIAbg"
      },
      "execution_count": 17,
      "outputs": []
    },
    {
      "cell_type": "code",
      "source": [
        "import numpy as np\n",
        "import matplotlib.pyplot as plt\n",
        "from google.colab import drive\n"
      ],
      "metadata": {
        "id": "2Vq-GAb37BFg"
      },
      "execution_count": 1,
      "outputs": []
    },
    {
      "cell_type": "code",
      "source": [
        "# Especifica el archivo de datos y el delimitador (; en este caso)\n",
        "archivo_datos = 'Wine Quality Dataset.txt'\n",
        "delimitador = ';'\n",
        "\n",
        "# Carga los datos excluyendo la primera fila\n",
        "data = np.loadtxt(archivo_datos, delimiter=delimitador, skiprows=1)\n",
        "\n",
        "# Ahora puedes acceder a las columnas de datos como desees\n",
        "# Por ejemplo, para cargar la primera y la segunda columna en x e y:\n",
        "x = data[:, 0]  # Cargar la primera columna en x\n",
        "y = data[:, 1]  # Cargar la segunda columna en y\n"
      ],
      "metadata": {
        "id": "_BggPJVb7C4V"
      },
      "execution_count": 7,
      "outputs": []
    },
    {
      "cell_type": "code",
      "source": [
        "\n",
        "X = np.vstack((np.ones_like(x),x)).T\n",
        "X.shape\n",
        ""
      ],
      "metadata": {
        "colab": {
          "base_uri": "https://localhost:8080/"
        },
        "id": "VgC8NYJE_2LE",
        "outputId": "d5ab97d2-0274-4453-df48-abfe1568c56a"
      },
      "execution_count": 8,
      "outputs": [
        {
          "output_type": "execute_result",
          "data": {
            "text/plain": [
              "(4898, 2)"
            ]
          },
          "metadata": {},
          "execution_count": 8
        }
      ]
    },
    {
      "cell_type": "code",
      "source": [
        "\n",
        "def lineal (X, w):\n",
        "  # x,y,w deben ser arreglos de numpy\n",
        "  w = np.array(w)\n",
        "  return X@w"
      ],
      "metadata": {
        "id": "cHEfHr_R_6Dq"
      },
      "execution_count": 9,
      "outputs": []
    },
    {
      "cell_type": "code",
      "source": [
        "def logaritmo (y, x, w, model = lineal): #lo definimos de esta manera para no usar ciclos for para la sumatoria\n",
        "  log = (y - model(x,w))**2\n",
        "  log = np.sum(log)\n",
        "  return log\n",
        "\n",
        "def Prior(w, w_max, w_min):\n",
        "    if w_min <= w <= w_max:\n",
        "        return 1.0  # Prior uniforme dentro del rango\n",
        "    else:\n",
        "        return 0.0  # Prior igual a cero fuera del rango\n",
        "\n"
      ],
      "metadata": {
        "id": "tmYDzVsTACq8"
      },
      "execution_count": 16,
      "outputs": []
    },
    {
      "cell_type": "code",
      "source": [
        "def MonteCarlo (x, y, w_inter, iter, sigma = 0.1, model = lineal, log = logaritmo):\n",
        "  # Definimos el parámetro inicial\n",
        "  theta_ini = [0,0]\n",
        "  w0 = float(input('Indica el w0:'))\n",
        "  theta_ini[0] = w0\n",
        "  w1 = float(input('Indica el w1:'))\n",
        "  theta_ini[1] = w1\n",
        "\n",
        "\n",
        "  thetas = []\n",
        "\n",
        "  i = 0\n",
        "  while i < iter:\n",
        "    # Generamos la propuesta\n",
        "    theta_prop = [np.random.normal(theta_ini[0], sigma), np.random.normal(theta_ini[1], sigma)]\n",
        "\n",
        "    log_ini = logaritmo(y, x, theta_ini) + np.log(Prior(theta_ini, w_inter[0], w_inter[1]))\n",
        "    log_prop = logaritmo(y, x, theta_prop) + np.log(Prior(theta_prop, w_inter[0], w_inter[1]))\n",
        "\n",
        "    if log_prop > log_ini:\n",
        "      thetas.append(theta_prop)\n",
        "      theta_ini = theta_prop\n",
        "    else:\n",
        "      thetas.append(theta_ini)\n",
        "\n",
        "    if log_prop == log_ini:\n",
        "      thetas.append(theta_prop)\n",
        "      theta_ini = theta_prop\n",
        "    else:\n",
        "      thetas.append(theta_ini)\n",
        "    i +=1\n",
        "\n",
        "  return np.array(thetas)"
      ],
      "metadata": {
        "id": "jLVNWp4HAgYe"
      },
      "execution_count": 12,
      "outputs": []
    },
    {
      "cell_type": "code",
      "source": [
        "w_inter = [[50, 1], [20, -1]]\n",
        "chain = MonteCarlo(X, y, w_inter, iter = 10000, sigma = 0.05)\n",
        "\n",
        "w0s = chain[0].T\n",
        "w1s = chain[1].T\n",
        "\n",
        "plt.scatter(w0s, w1s)"
      ],
      "metadata": {
        "colab": {
          "base_uri": "https://localhost:8080/",
          "height": 551
        },
        "id": "itUneCvRAzk0",
        "outputId": "f95fd0cb-2892-4622-8281-366322a105b4"
      },
      "execution_count": 17,
      "outputs": [
        {
          "name": "stdout",
          "output_type": "stream",
          "text": [
            "Indica el w0:100\n",
            "Indica el w1:-5\n"
          ]
        },
        {
          "output_type": "stream",
          "name": "stderr",
          "text": [
            "<ipython-input-12-309cb6ef0df9>:17: RuntimeWarning: divide by zero encountered in log\n",
            "  log_ini = logaritmo(y, x, theta_ini) + np.log(Prior(theta_ini, w_inter[0], w_inter[1]))\n",
            "<ipython-input-12-309cb6ef0df9>:18: RuntimeWarning: divide by zero encountered in log\n",
            "  log_prop = logaritmo(y, x, theta_prop) + np.log(Prior(theta_prop, w_inter[0], w_inter[1]))\n"
          ]
        },
        {
          "output_type": "execute_result",
          "data": {
            "text/plain": [
              "<matplotlib.collections.PathCollection at 0x796f4c5a9f30>"
            ]
          },
          "metadata": {},
          "execution_count": 17
        },
        {
          "output_type": "display_data",
          "data": {
            "text/plain": [
              "<Figure size 640x480 with 1 Axes>"
            ],
            "image/png": "[encoded data removed]"
          },
          "metadata": {}
        }
      ]
    }
  ]
}